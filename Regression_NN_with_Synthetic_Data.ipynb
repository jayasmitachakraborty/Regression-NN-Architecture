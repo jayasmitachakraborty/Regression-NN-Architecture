{
  "nbformat": 4,
  "nbformat_minor": 0,
  "metadata": {
    "colab": {
      "name": "Regression NN with Synthetic Data.ipynb",
      "provenance": []
    },
    "kernelspec": {
      "name": "python3",
      "display_name": "Python 3"
    },
    "language_info": {
      "name": "python"
    }
  },
  "cells": [
    {
      "cell_type": "markdown",
      "metadata": {
        "id": "nDIQuulzMyK6"
      },
      "source": [
        "## Importing Relevant Modules"
      ]
    },
    {
      "cell_type": "code",
      "metadata": {
        "id": "0rsFwbV7KmQL"
      },
      "source": [
        "import pandas as pd\n",
        "import numpy as np\n",
        "import torch\n",
        "import torch.nn as nn\n",
        "from torchvision import datasets\n",
        "import matplotlib.pyplot as plt\n",
        "from torchvision.transforms import ToTensor\n",
        "import torch.nn as xnn\n",
        "import torch.utils.data as td\n",
        "from sklearn.model_selection import train_test_split\n",
        "from sklearn.model_selection import GridSearchCV"
      ],
      "execution_count": null,
      "outputs": []
    },
    {
      "cell_type": "markdown",
      "metadata": {
        "id": "V2md3zmOM_uI"
      },
      "source": [
        "## Defining Synthetic Data"
      ]
    },
    {
      "cell_type": "code",
      "metadata": {
        "id": "impym6JyMuDs"
      },
      "source": [
        "def create_data():\n",
        "  my_feature = torch.tensor(np.array([i*0.85 for i in range(200)],dtype=np.float32))\n",
        "  my_label   = torch.tensor(np.array([i**1.5+i*0.2 for i in range(200)],dtype=np.float32))"
      ],
      "execution_count": null,
      "outputs": []
    },
    {
      "cell_type": "markdown",
      "metadata": {
        "id": "IKu5TEa2NHPE"
      },
      "source": [
        "## Setting Device\n",
        "#### GPU, or local device"
      ]
    },
    {
      "cell_type": "code",
      "metadata": {
        "colab": {
          "base_uri": "https://localhost:8080/"
        },
        "id": "brg4_QkBNB_7",
        "outputId": "9cae54f8-f266-4ba7-e830-b81c01e285fb"
      },
      "source": [
        "device = 'cuda' if torch.cuda.is_available() else 'cpu'\n",
        "print('Using {} device'.format(device))"
      ],
      "execution_count": null,
      "outputs": [
        {
          "output_type": "stream",
          "name": "stdout",
          "text": [
            "Using cpu device\n"
          ]
        }
      ]
    },
    {
      "cell_type": "markdown",
      "metadata": {
        "id": "f-6eYj6iNNFM"
      },
      "source": [
        "### Building Neural Network Model\n",
        "#### Network Architecture"
      ]
    },
    {
      "cell_type": "code",
      "metadata": {
        "id": "nsDy_OnHNJeU"
      },
      "source": [
        "class neuralNet(nn.Module):\n",
        "    def __init__(self, n_feature, n_label):\n",
        "        super(neuralNet, self).__init__()\n",
        "        self.fc1 = nn.Linear(in_features=n_feature, out_features=n_label)\n",
        "        self.fc2 = nn.Linear(in_features=n_feature, out_features=n_label)\n",
        "        self.fc3 = nn.Linear(in_features=n_feature, out_features=n_label)\n",
        "\n",
        "    def forward(self, x):\n",
        "        x = torch.relu(self.fc1(x))\n",
        "        x = torch.relu(self.fc2(x))\n",
        "        x = self.fc3(x)\n",
        "        return x"
      ],
      "execution_count": null,
      "outputs": []
    },
    {
      "cell_type": "markdown",
      "metadata": {
        "id": "479VVsDFO2CK"
      },
      "source": [
        "## Defining Functions that Train the Model"
      ]
    },
    {
      "cell_type": "code",
      "metadata": {
        "id": "FGTP8Gp7Ov4E"
      },
      "source": [
        "def create_model(inputDim, outputDim):\n",
        "    model = neuralNet(inputDim, outputDim)\n",
        "    model.to(device)\n",
        "    return model\n",
        "  \n",
        "def train(model, Xtrain, ytrain, optimizer):\n",
        "    # Set the model to training mode\n",
        "    model.train()\n",
        "    train_loss,batch=0, 0\n",
        "    \n",
        "    for i in range(len(Xtrain)):\n",
        "        data, target = Xtrain[i], ytrain[i]\n",
        "        #feedforward\n",
        "        optimizer.zero_grad()\n",
        "        out = model(data)\n",
        "        loss = loss_criteria(out, target)\n",
        "        train_loss += loss.item()\n",
        "        batch+=1\n",
        "\n",
        "        # backpropagate\n",
        "        loss.backward()\n",
        "        optimizer.step()\n",
        "\n",
        "    #Return average loss\n",
        "    avg_loss = train_loss / (batch+1)\n",
        "    #print('Training set: Average loss: {:.6f}'.format(avg_loss))\n",
        "    return avg_loss\n",
        "           \n",
        "            \n",
        "def test(model, Xtest, ytest):\n",
        "    # Switch the model to evaluation mode (so we don't backpropagate)\n",
        "    model.eval()\n",
        "    test_loss = 0\n",
        "    correct = 0\n",
        "\n",
        "    with torch.no_grad():\n",
        "        batch_count = 0\n",
        "        for i in range(len(Xtest)):\n",
        "            batch_count += 1\n",
        "            data, target = Xtest[i], ytest[i]\n",
        "            # Get the predictions\n",
        "            out = model(data)\n",
        "\n",
        "            # calculate the loss\n",
        "            test_loss += loss_criteria(out, target).item()\n",
        "\n",
        "            # Calculate the accuracy\n",
        "            predicted = out\n",
        "            correct += torch.sum(target==predicted).item()\n",
        "            \n",
        "    # Calculate the average loss and total accuracy for this epoch\n",
        "    avg_loss = test_loss/batch_count\n",
        "    #print('Validation set: Average loss: {:.6f}, Accuracy: {}/{} ({:.0f}%)\\n'.format(\n",
        "    #    avg_loss, correct, len(data_loader.dataset),\n",
        "    #    100. * correct / len(data_loader.dataset)))\n",
        "    \n",
        "    # return average loss for the epoch\n",
        "    return avg_loss"
      ],
      "execution_count": null,
      "outputs": []
    },
    {
      "cell_type": "markdown",
      "metadata": {
        "id": "oRZAuVl-XXPB"
      },
      "source": [
        "## Generating Train Test Splits"
      ]
    },
    {
      "cell_type": "code",
      "metadata": {
        "id": "WELirsEDXax2"
      },
      "source": [
        "def load_data():\n",
        "  create_data()\n",
        "  Xtrain, Xtest, ytrain, ytest = train_test_split(my_feature, my_label, random_state=18)\n",
        "  Xtrain = Xtrain.reshape(-1,1)\n",
        "  Xtest = Xtest.reshape(-1,1)\n",
        "  ytrain = ytrain.reshape(-1,1)\n",
        "  ytest = ytest.reshape(-1,1)"
      ],
      "execution_count": null,
      "outputs": []
    },
    {
      "cell_type": "markdown",
      "metadata": {
        "id": "xZyl9dUuc7sw"
      },
      "source": [
        "## Specify the hyperparameters\n",
        "\n",
        "\n",
        "The hyperparameters in this Colab are as follows:\n",
        "*   learning rate\n",
        "*   epochs\n",
        "*   batch size\n",
        "\n",
        "\n",
        "\n",
        "The following code cell initializes these hyperparameters and then invokes the functions that build and train the model."
      ]
    },
    {
      "cell_type": "code",
      "metadata": {
        "id": "5TxtkmoqdRsR"
      },
      "source": [
        "learning_rate = 0.001\n",
        "epochs = 100\n",
        "#batch_size=5"
      ],
      "execution_count": null,
      "outputs": []
    },
    {
      "cell_type": "markdown",
      "metadata": {
        "id": "jEZxqeg1PIBK"
      },
      "source": [
        "## Training the Model"
      ]
    },
    {
      "cell_type": "code",
      "metadata": {
        "id": "zqI-wE3pPHJY"
      },
      "source": [
        "load_data()\n",
        "model = create_model(1, 1)\n",
        "\n",
        "# Using MSELoss for multi-class classification\n",
        "loss_criteria = nn.MSELoss()\n",
        "\n",
        "# Using \"Adam\" optimizer to adjust weights\n",
        "optimizer = torch.optim.Adam(model.parameters(), lr=learning_rate)\n",
        "optimizer.zero_grad()\n",
        "\n",
        "# to track metrics for each epoch in these arrays\n",
        "epoch_nums = []\n",
        "training_loss = []\n",
        "validation_loss = []\n",
        "\n",
        "# Train over 100 epochs\n",
        "for epoch in range(1, epochs + 1):\n",
        "\n",
        "    # print the epoch number\n",
        "    #print('Epoch: {}'.format(epoch))\n",
        "    \n",
        "    # Feed training data into the model to optimize the weights\n",
        "    train_loss = train(model, Xtrain, ytrain, optimizer)\n",
        "    \n",
        "    # Feed the test data into the model to check its performance\n",
        "    test_loss = test(model, Xtest, ytest)\n",
        "    \n",
        "    # Log the metrics for this epoch\n",
        "    epoch_nums.append(epoch)\n",
        "    training_loss.append(train_loss)\n",
        "    validation_loss.append(test_loss)"
      ],
      "execution_count": null,
      "outputs": []
    },
    {
      "cell_type": "code",
      "metadata": {
        "colab": {
          "base_uri": "https://localhost:8080/",
          "height": 290
        },
        "id": "FlScaZdRPY8o",
        "outputId": "c1c8d495-9e29-4585-fbe2-cda0aea5f355"
      },
      "source": [
        "plt.plot(epoch_nums, training_loss)\n",
        "plt.plot(epoch_nums, validation_loss)\n",
        "plt.xlabel('epoch')\n",
        "plt.ylabel('loss')\n",
        "plt.legend(['training', 'validation'], loc='upper right')\n",
        "plt.show()"
      ],
      "execution_count": null,
      "outputs": [
        {
          "output_type": "display_data",
          "data": {
            "image/png": "[encoded data removed]",
            "text/plain": [
              "<Figure size 432x288 with 1 Axes>"
            ]
          },
          "metadata": {
            "needs_background": "light"
          }
        }
      ]
    },
    {
      "cell_type": "code",
      "metadata": {
        "colab": {
          "base_uri": "https://localhost:8080/",
          "height": 380
        },
        "id": "xpzDpeP_cDSJ",
        "outputId": "6c42a73c-c339-4aa6-b9cb-dc09e7a6d3d6"
      },
      "source": [
        "plt.hist(validation_loss)"
      ],
      "execution_count": null,
      "outputs": [
        {
          "output_type": "execute_result",
          "data": {
            "text/plain": [
              "(array([89.,  2.,  1.,  0.,  1.,  1.,  1.,  1.,  1.,  3.]),\n",
              " array([  33628.54560845,  187159.95536483,  340691.3651212 ,\n",
              "         494222.77487757,  647754.18463395,  801285.59439032,\n",
              "         954817.0041467 , 1108348.41390307, 1261879.82365944,\n",
              "        1415411.23341582, 1568942.64317219]),\n",
              " <a list of 10 Patch objects>)"
            ]
          },
          "metadata": {},
          "execution_count": 180
        },
        {
          "output_type": "display_data",
          "data": {
            "image/png": "[encoded data removed]",
            "text/plain": [
              "<Figure size 432x288 with 1 Axes>"
            ]
          },
          "metadata": {
            "needs_background": "light"
          }
        }
      ]
    },
    {
      "cell_type": "markdown",
      "metadata": {
        "id": "7UU3FSX5g3p6"
      },
      "source": [
        "## Increasing the number of epochs"
      ]
    },
    {
      "cell_type": "code",
      "metadata": {
        "colab": {
          "base_uri": "https://localhost:8080/",
          "height": 279
        },
        "id": "w6_vgsZDjiEx",
        "outputId": "02ac4b0e-30a0-4176-d7ca-3b8dbd2d287f"
      },
      "source": [
        "epochs = [100, 200, 300, 400, 500, 600]\n",
        "learning_rate = 0.001\n",
        "training_loss, validation_loss = [], []\n",
        "avg_training_loss, avg_validation_loss = [],[]\n",
        "for n in epochs:\n",
        "  load_data()\n",
        "  for epoch in range(1, n + 1):\n",
        "\n",
        "    # print the epoch number\n",
        "    #print('Epoch: {}'.format(epoch))\n",
        "    \n",
        "    # Feed training data into the model to optimize the weights\n",
        "    train_loss = train(model, Xtrain, ytrain, optimizer)\n",
        "    \n",
        "    # Feed the test data into the model to check its performance\n",
        "    test_loss = test(model, Xtest, ytest)\n",
        "    \n",
        "    # Log the metrics for this epoch\n",
        "    training_loss.append(train_loss)\n",
        "    validation_loss.append(test_loss)\n",
        "  avg_training_loss.append(np.mean(np.array(training_loss)))\n",
        "  avg_validation_loss.append(np.mean(np.array(validation_loss)))\n",
        "\n",
        "plt.plot(epochs, avg_training_loss)\n",
        "plt.plot(epochs, avg_validation_loss)\n",
        "plt.xlabel('epoch')\n",
        "plt.ylabel('loss')\n",
        "plt.legend(['training', 'validation'], loc='upper right')\n",
        "plt.show()"
      ],
      "execution_count": null,
      "outputs": [
        {
          "output_type": "display_data",
          "data": {
            "image/png": "[encoded data removed]",
            "text/plain": [
              "<Figure size 432x288 with 1 Axes>"
            ]
          },
          "metadata": {
            "needs_background": "light"
          }
        }
      ]
    },
    {
      "cell_type": "markdown",
      "metadata": {
        "id": "uvGT5TK_g5r6"
      },
      "source": [
        "## Increasing the learning rate"
      ]
    },
    {
      "cell_type": "code",
      "metadata": {
        "colab": {
          "base_uri": "https://localhost:8080/",
          "height": 279
        },
        "id": "10Eyq4kqPKHL",
        "outputId": "3c24f54b-abc4-4e6d-b437-ca3010bc39f6"
      },
      "source": [
        "epochs = 100\n",
        "learning_rate = [0.001, 0.01, 0.1, 0.5, 0.8]\n",
        "training_loss, validation_loss = [], []\n",
        "avg_training_loss, avg_validation_loss = [],[]\n",
        "\n",
        "for n in learning_rate:\n",
        "  load_data()\n",
        "  optimizer = torch.optim.Adam(model.parameters(), lr=n)\n",
        "  optimizer.zero_grad()\n",
        "  for epoch in range(1, epochs + 1):\n",
        "\n",
        "    # print the epoch number\n",
        "    #print('Epoch: {}'.format(epoch))\n",
        "    \n",
        "    # Feed training data into the model to optimize the weights\n",
        "    train_loss = train(model, Xtrain, ytrain, optimizer)\n",
        "    \n",
        "    # Feed the test data into the model to check its performance\n",
        "    test_loss = test(model, Xtest, ytest)\n",
        "    \n",
        "    # Log the metrics for this epoch\n",
        "    training_loss.append(train_loss)\n",
        "    validation_loss.append(test_loss)\n",
        "  avg_training_loss.append(np.mean(np.array(training_loss)))\n",
        "  avg_validation_loss.append(np.mean(np.array(validation_loss)))\n",
        "\n",
        "plt.plot(learning_rate, avg_training_loss)\n",
        "plt.plot(learning_rate, avg_validation_loss)\n",
        "plt.xlabel('learning rate')\n",
        "plt.ylabel('loss')\n",
        "plt.legend(['training', 'validation'], loc='upper right')\n",
        "plt.show()"
      ],
      "execution_count": null,
      "outputs": [
        {
          "output_type": "display_data",
          "data": {
            "image/png": "[encoded data removed]",
            "text/plain": [
              "<Figure size 432x288 with 1 Axes>"
            ]
          },
          "metadata": {
            "needs_background": "light"
          }
        }
      ]
    },
    {
      "cell_type": "markdown",
      "metadata": {
        "id": "4OxIYqK4gMCe"
      },
      "source": [
        "## Summary of hyperparameter tuning (Pointers From Google)\n",
        "\n",
        "Most machine learning problems require a lot of hyperparameter tuning. Unfortunately, we can't provide concrete tuning rules for every model. Lowering the learning rate can help one model converge efficiently but make another model converge much too slowly. You must experiment to find the best set of hyperparameters for your dataset. That said, here are a few rules of thumb:\n",
        "\n",
        "\n",
        "*   Training loss should steadily decrease, steeply at first, and then more slowly until the slope of the curve reaches or approaches zero.\n",
        "*   If the training loss does not converge, train for more epochs.\n",
        "*   If the training loss decreases too slowly, increase the learning rate. Note that setting the learning rate too high may also prevent training loss from converging.\n",
        "*   If the training loss varies wildly (that is, the training loss jumps around), decrease the learning rate.\n",
        "*   Lowering the learning rate while increasing the number of epochs or the batch size is often a good combination.\n",
        "*   Setting the batch size to a very small batch number can also cause instability. \n",
        "*   First, try large batch size values. Then, decrease the batch size until you see degradation.\n",
        "*   For real-world datasets consisting of a very large number of examples, the entire dataset might not fit into memory. In such cases, you'll need to reduce the batch size to enable a batch to fit into memory.\n",
        "\n",
        "**Remember**: the ideal combination of hyperparameters is data dependent, so you must always experiment and verify.\n",
        "\n"
      ]
    },
    {
      "cell_type": "code",
      "metadata": {
        "id": "C48Qko-GfS3G"
      },
      "source": [
        ""
      ],
      "execution_count": null,
      "outputs": []
    }
  ]
}